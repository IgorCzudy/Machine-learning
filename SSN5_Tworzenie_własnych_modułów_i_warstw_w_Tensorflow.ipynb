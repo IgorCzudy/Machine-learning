{
  "cells": [
    {
      "cell_type": "markdown",
      "metadata": {
        "id": "ebvqJaNU9bkH"
      },
      "source": [
        "# Elementy Inteligencji Obliczeniowej - Sieci Neuronowe\n",
        "\n",
        "\n",
        "---\n",
        "\n",
        "**Prowadzący:** Jakub Bednarek<br>\n",
        "**Kontakt:** jakub.bednarek@put.poznan.pl<br>\n",
        "**Materiały:** [Strona WWW](http://jakub.bednarek.pracownik.put.poznan.pl)\n",
        "\n",
        "---"
      ]
    },
    {
      "cell_type": "markdown",
      "metadata": {
        "id": "i0tVMrm99g5w"
      },
      "source": [
        "## Uwaga\n",
        "\n",
        "* **Aby wykonać polecenia należy najpierw przejść do trybu 'playground'. File -> Open in Playground Mode**\n",
        "* Nowe funkcje Colab pozwalają na autouzupełnianie oraz czytanie dokumentacji"
      ]
    },
    {
      "cell_type": "markdown",
      "metadata": {
        "id": "Wlq47LA0BuBB"
      },
      "source": [
        "## Cel ćwiczeń:\n",
        "- zapoznanie się z Keras subclassing API\n",
        "- stworzenie własnych modeli i warstw z wykorzystaniem Keras subclassing API\n",
        "- wykorzystanie podstawowych mechanizmów regularyzacji: Dropout i Batch normalization"
      ]
    },
    {
      "cell_type": "code",
      "execution_count": 8,
      "metadata": {
        "colab": {
          "base_uri": "https://localhost:8080/"
        },
        "id": "SxLU8paIDmUe",
        "outputId": "a3ba9d66-6fc8-4741-952d-246f11e61471"
      },
      "outputs": [
        {
          "output_type": "stream",
          "name": "stdout",
          "text": [
            "Colab only includes TensorFlow 2.x; %tensorflow_version has no effect.\n"
          ]
        }
      ],
      "source": [
        "%tensorflow_version 2.x\n",
        "\n",
        "import tensorflow as tf\n",
        "import numpy as np"
      ]
    },
    {
      "cell_type": "code",
      "execution_count": 9,
      "metadata": {
        "id": "scL5_bHTD-M7"
      },
      "outputs": [],
      "source": [
        "from tensorflow.keras.datasets import mnist\n",
        "from tensorflow.keras.models import Sequential, Model\n",
        "from tensorflow.keras.layers import Dense, Dropout, Flatten, BatchNormalization, Conv2D, MaxPooling2D, Layer\n",
        "from tensorflow.keras.utils import to_categorical\n",
        "from tensorflow.keras.losses import categorical_crossentropy\n",
        "from tensorflow.keras.optimizers import Adadelta, RMSprop\n",
        "from tensorflow.python.keras import backend as K\n"
      ]
    },
    {
      "cell_type": "code",
      "execution_count": 10,
      "metadata": {
        "id": "wV_u-YBWEJ8X"
      },
      "outputs": [],
      "source": [
        "(x_train, y_train), (x_test, y_test) = mnist.load_data()\n",
        "\n",
        "\n",
        "x_train = x_train[:, :, :, np.newaxis].astype('float32')\n",
        "x_test = x_test[:, :, :, np.newaxis].astype('float32')\n",
        "x_train /= 255\n",
        "x_test /= 255\n",
        "\n",
        "# x_train = x_train.reshape(60000, 784)\n",
        "# x_test = x_test.reshape(10000, 784)\n",
        "\n",
        "y_train = to_categorical(y_train, 10)\n",
        "y_test = to_categorical(y_test, 10)"
      ]
    },
    {
      "cell_type": "markdown",
      "metadata": {
        "id": "ppmDSGoyFuJ9"
      },
      "source": [
        "## Tworzenie własnych modeli i warstw \n",
        "https://www.tensorflow.org/tutorials/customization/custom_layers\n",
        "\n",
        "https://www.tensorflow.org/guide/keras/custom_layers_and_models\n",
        "\n",
        "Przykładowy model z warstwami gęstymi dla danych MNIST:"
      ]
    },
    {
      "cell_type": "code",
      "execution_count": null,
      "metadata": {
        "id": "ViqotGlHGy9t"
      },
      "outputs": [],
      "source": [
        "class DenseModel(Model):\n",
        "\n",
        "  def __init__(self, num_classes=10):\n",
        "    super(DenseModel, self).__init__(name='my_model')\n",
        "    self.num_classes = num_classes\n",
        "    # Define your layers here.\n",
        "    self.dense_1 = Dense(512, input_shape=(784,), activation='relu')\n",
        "    self.dense_2 = Dense(512, activation='relu')\n",
        "    self.dense_3 = Dense(num_classes, activation='softmax')\n",
        "\n",
        "  def call(self, inputs):\n",
        "    # Define your forward pass here,\n",
        "    # using layers you previously defined (in `__init__`).\n",
        "    x = self.dense_1(inputs)\n",
        "    x = self.dense_2(x)\n",
        "    return self.dense_3(x)\n",
        "\n",
        "model = DenseModel(num_classes=10)"
      ]
    },
    {
      "cell_type": "code",
      "execution_count": null,
      "metadata": {
        "colab": {
          "base_uri": "https://localhost:8080/",
          "height": 762
        },
        "id": "jFs-QBFtEp0s",
        "outputId": "70941054-7e1d-42b3-82f0-92ab9fa2bef5"
      },
      "outputs": [
        {
          "name": "stdout",
          "output_type": "stream",
          "text": [
            "Epoch 1/3\n"
          ]
        },
        {
          "ename": "ValueError",
          "evalue": "ignored",
          "output_type": "error",
          "traceback": [
            "\u001b[0;31m---------------------------------------------------------------------------\u001b[0m",
            "\u001b[0;31mValueError\u001b[0m                                Traceback (most recent call last)",
            "\u001b[0;32m<ipython-input-8-db22f87be304>\u001b[0m in \u001b[0;36m<module>\u001b[0;34m\u001b[0m\n\u001b[1;32m      3\u001b[0m               metrics=['accuracy'])\n\u001b[1;32m      4\u001b[0m \u001b[0;34m\u001b[0m\u001b[0m\n\u001b[0;32m----> 5\u001b[0;31m \u001b[0mmodel\u001b[0m\u001b[0;34m.\u001b[0m\u001b[0mfit\u001b[0m\u001b[0;34m(\u001b[0m\u001b[0mx_train\u001b[0m\u001b[0;34m,\u001b[0m \u001b[0my_train\u001b[0m\u001b[0;34m,\u001b[0m \u001b[0mbatch_size\u001b[0m\u001b[0;34m=\u001b[0m\u001b[0;36m32\u001b[0m\u001b[0;34m,\u001b[0m \u001b[0mepochs\u001b[0m\u001b[0;34m=\u001b[0m\u001b[0;36m3\u001b[0m\u001b[0;34m)\u001b[0m\u001b[0;34m\u001b[0m\u001b[0;34m\u001b[0m\u001b[0m\n\u001b[0m",
            "\u001b[0;32m/usr/local/lib/python3.8/dist-packages/keras/utils/traceback_utils.py\u001b[0m in \u001b[0;36merror_handler\u001b[0;34m(*args, **kwargs)\u001b[0m\n\u001b[1;32m     65\u001b[0m     \u001b[0;32mexcept\u001b[0m \u001b[0mException\u001b[0m \u001b[0;32mas\u001b[0m \u001b[0me\u001b[0m\u001b[0;34m:\u001b[0m  \u001b[0;31m# pylint: disable=broad-except\u001b[0m\u001b[0;34m\u001b[0m\u001b[0;34m\u001b[0m\u001b[0m\n\u001b[1;32m     66\u001b[0m       \u001b[0mfiltered_tb\u001b[0m \u001b[0;34m=\u001b[0m \u001b[0m_process_traceback_frames\u001b[0m\u001b[0;34m(\u001b[0m\u001b[0me\u001b[0m\u001b[0;34m.\u001b[0m\u001b[0m__traceback__\u001b[0m\u001b[0;34m)\u001b[0m\u001b[0;34m\u001b[0m\u001b[0;34m\u001b[0m\u001b[0m\n\u001b[0;32m---> 67\u001b[0;31m       \u001b[0;32mraise\u001b[0m \u001b[0me\u001b[0m\u001b[0;34m.\u001b[0m\u001b[0mwith_traceback\u001b[0m\u001b[0;34m(\u001b[0m\u001b[0mfiltered_tb\u001b[0m\u001b[0;34m)\u001b[0m \u001b[0;32mfrom\u001b[0m \u001b[0;32mNone\u001b[0m\u001b[0;34m\u001b[0m\u001b[0;34m\u001b[0m\u001b[0m\n\u001b[0m\u001b[1;32m     68\u001b[0m     \u001b[0;32mfinally\u001b[0m\u001b[0;34m:\u001b[0m\u001b[0;34m\u001b[0m\u001b[0;34m\u001b[0m\u001b[0m\n\u001b[1;32m     69\u001b[0m       \u001b[0;32mdel\u001b[0m \u001b[0mfiltered_tb\u001b[0m\u001b[0;34m\u001b[0m\u001b[0;34m\u001b[0m\u001b[0m\n",
            "\u001b[0;32m/usr/local/lib/python3.8/dist-packages/keras/engine/training.py\u001b[0m in \u001b[0;36mtf__train_function\u001b[0;34m(iterator)\u001b[0m\n\u001b[1;32m     13\u001b[0m                 \u001b[0;32mtry\u001b[0m\u001b[0;34m:\u001b[0m\u001b[0;34m\u001b[0m\u001b[0;34m\u001b[0m\u001b[0m\n\u001b[1;32m     14\u001b[0m                     \u001b[0mdo_return\u001b[0m \u001b[0;34m=\u001b[0m \u001b[0;32mTrue\u001b[0m\u001b[0;34m\u001b[0m\u001b[0;34m\u001b[0m\u001b[0m\n\u001b[0;32m---> 15\u001b[0;31m                     \u001b[0mretval_\u001b[0m \u001b[0;34m=\u001b[0m \u001b[0mag__\u001b[0m\u001b[0;34m.\u001b[0m\u001b[0mconverted_call\u001b[0m\u001b[0;34m(\u001b[0m\u001b[0mag__\u001b[0m\u001b[0;34m.\u001b[0m\u001b[0mld\u001b[0m\u001b[0;34m(\u001b[0m\u001b[0mstep_function\u001b[0m\u001b[0;34m)\u001b[0m\u001b[0;34m,\u001b[0m \u001b[0;34m(\u001b[0m\u001b[0mag__\u001b[0m\u001b[0;34m.\u001b[0m\u001b[0mld\u001b[0m\u001b[0;34m(\u001b[0m\u001b[0mself\u001b[0m\u001b[0;34m)\u001b[0m\u001b[0;34m,\u001b[0m \u001b[0mag__\u001b[0m\u001b[0;34m.\u001b[0m\u001b[0mld\u001b[0m\u001b[0;34m(\u001b[0m\u001b[0miterator\u001b[0m\u001b[0;34m)\u001b[0m\u001b[0;34m)\u001b[0m\u001b[0;34m,\u001b[0m \u001b[0;32mNone\u001b[0m\u001b[0;34m,\u001b[0m \u001b[0mfscope\u001b[0m\u001b[0;34m)\u001b[0m\u001b[0;34m\u001b[0m\u001b[0;34m\u001b[0m\u001b[0m\n\u001b[0m\u001b[1;32m     16\u001b[0m                 \u001b[0;32mexcept\u001b[0m\u001b[0;34m:\u001b[0m\u001b[0;34m\u001b[0m\u001b[0;34m\u001b[0m\u001b[0m\n\u001b[1;32m     17\u001b[0m                     \u001b[0mdo_return\u001b[0m \u001b[0;34m=\u001b[0m \u001b[0;32mFalse\u001b[0m\u001b[0;34m\u001b[0m\u001b[0;34m\u001b[0m\u001b[0m\n",
            "\u001b[0;31mValueError\u001b[0m: in user code:\n\n    File \"/usr/local/lib/python3.8/dist-packages/keras/engine/training.py\", line 1051, in train_function  *\n        return step_function(self, iterator)\n    File \"/usr/local/lib/python3.8/dist-packages/keras/engine/training.py\", line 1040, in step_function  **\n        outputs = model.distribute_strategy.run(run_step, args=(data,))\n    File \"/usr/local/lib/python3.8/dist-packages/keras/engine/training.py\", line 1030, in run_step  **\n        outputs = model.train_step(data)\n    File \"/usr/local/lib/python3.8/dist-packages/keras/engine/training.py\", line 890, in train_step\n        loss = self.compute_loss(x, y, y_pred, sample_weight)\n    File \"/usr/local/lib/python3.8/dist-packages/keras/engine/training.py\", line 948, in compute_loss\n        return self.compiled_loss(\n    File \"/usr/local/lib/python3.8/dist-packages/keras/engine/compile_utils.py\", line 201, in __call__\n        loss_value = loss_obj(y_t, y_p, sample_weight=sw)\n    File \"/usr/local/lib/python3.8/dist-packages/keras/losses.py\", line 139, in __call__\n        losses = call_fn(y_true, y_pred)\n    File \"/usr/local/lib/python3.8/dist-packages/keras/losses.py\", line 243, in call  **\n        return ag_fn(y_true, y_pred, **self._fn_kwargs)\n    File \"/usr/local/lib/python3.8/dist-packages/keras/losses.py\", line 1787, in categorical_crossentropy\n        return backend.categorical_crossentropy(\n    File \"/usr/local/lib/python3.8/dist-packages/keras/backend.py\", line 5119, in categorical_crossentropy\n        target.shape.assert_is_compatible_with(output.shape)\n\n    ValueError: Shapes (32, 10) and (32, 28, 28, 10) are incompatible\n"
          ]
        }
      ],
      "source": [
        "model.compile(optimizer=RMSprop(),\n",
        "              loss='categorical_crossentropy',\n",
        "              metrics=['accuracy'])\n",
        "\n",
        "model.fit(x_train, y_train, batch_size=32, epochs=3)"
      ]
    },
    {
      "cell_type": "markdown",
      "metadata": {
        "id": "axZWFRVEyPv7"
      },
      "source": [
        "Przykład własnej warstwy. Warstwa to po prostu funkcjonalny moduł do wielokrotnego używania, podczas gdy model to gotowe rozwiązanie dla danego problemu uczenia maszynowego (tzn. w Kerasie zazwyczaj kompletna sieć neuronowa), które udostępnia dodatkowo takie metody jak `fit`, `evaluate` i `predict`. Oczywiście można też budować modele/warstwy korzystające z innych modeli/warstw, API obu tych klas jest bardzo podobne.\n",
        "\n",
        "W poniższym kodzie, metoda `build` w `CustomLayer` jest wołana raz przed pierwszym wywołaniem `call` (zaimplementowane jest to w `__call__()`), co pozwala nam uzależnić liczbę wag warstwy od wymiaru wyjść z warstwy poprzedniej. Jeżeli odgórnie wiemy, ile wag ma mieć warstwa, to równie dobrze możemy je zainicjować w `__init__` tak jak wcześniej."
      ]
    },
    {
      "cell_type": "code",
      "execution_count": null,
      "metadata": {
        "colab": {
          "base_uri": "https://localhost:8080/",
          "height": 156
        },
        "id": "NxVJBabOxkQS",
        "outputId": "325beed7-1b21-4302-91c6-201f6f55a7b8"
      },
      "outputs": [
        {
          "name": "stdout",
          "output_type": "stream",
          "text": [
            "Train on 60000 samples\n",
            "Epoch 1/3\n",
            "60000/60000 [==============================] - 7s 117us/sample - loss: 0.2851 - accuracy: 0.9132\n",
            "Epoch 2/3\n",
            "60000/60000 [==============================] - 7s 114us/sample - loss: 0.0968 - accuracy: 0.9707\n",
            "Epoch 3/3\n",
            "60000/60000 [==============================] - 7s 110us/sample - loss: 0.0646 - accuracy: 0.9798\n"
          ]
        },
        {
          "data": {
            "text/plain": [
              "<tensorflow.python.keras.callbacks.History at 0x7f9ad8f1c898>"
            ]
          },
          "execution_count": 18,
          "metadata": {
            "tags": []
          },
          "output_type": "execute_result"
        }
      ],
      "source": [
        "class CustomLayer(Layer):\n",
        "\n",
        "    def __init__(self, output_dim, **kwargs):\n",
        "        self.output_dim = output_dim\n",
        "        super(CustomLayer, self).__init__(**kwargs)\n",
        "\n",
        "    def build(self, input_shape):\n",
        "        # Create a trainable weight variable for this layer.\n",
        "        self.kernel = self.add_weight(name='kernel',\n",
        "                                      shape=(int(input_shape[1]), self.output_dim),\n",
        "                                      initializer='uniform',\n",
        "                                      trainable=True)\n",
        "\n",
        "    def call(self, inputs):\n",
        "        return tf.matmul(inputs, self.kernel)\n",
        "\n",
        "\n",
        "class CustomModel(Model):\n",
        "\n",
        "    def __init__(self, num_classes=10):\n",
        "        super(CustomModel, self).__init__(name='custom_model')\n",
        "        self.num_classes = num_classes\n",
        "        # Define your layers here.\n",
        "        self.dense_1 = CustomLayer(output_dim=512, input_shape=(784,))\n",
        "        self.dense_2 = CustomLayer(output_dim=512, input_shape=(512,))\n",
        "        self.dense_3 = CustomLayer(output_dim=num_classes, input_shape=(512,))\n",
        "\n",
        "    def call(self, inputs):\n",
        "        # Define your forward pass here,\n",
        "        # using layers you previously defined (in `__init__`).\n",
        "        x = self.dense_1(inputs)\n",
        "        x = K.relu(x)\n",
        "        x = self.dense_2(x)\n",
        "        x = K.relu(x)\n",
        "        x = self.dense_3(x)\n",
        "        x = K.sigmoid(x)\n",
        "        return x\n",
        "\n",
        "model = CustomModel(num_classes=10)\n",
        "\n",
        "model.compile(optimizer=RMSprop(),\n",
        "              loss='categorical_crossentropy',\n",
        "              metrics=['accuracy'])\n",
        "\n",
        "\n",
        "model.fit(x_train, y_train, batch_size=128, epochs=3)\n",
        "\n",
        "\n"
      ]
    },
    {
      "cell_type": "markdown",
      "metadata": {
        "id": "ZgtZzVYg1361"
      },
      "source": [
        "### Zadanie 1\n",
        "Na podstawie powyższego przykładu stwórz własny model kolejno składający się z:\n",
        "- warstwy konwolucyjnej (Conv2D): 32 filtry 3x3,\n",
        "- konwolucyjnej: 64 filtry 3x3,\n",
        "- warstwy MaxPooling (MaxPooling2D): 2x2\n",
        "- warstwy ukrytej gęstej (Dense): 128 neuronów,\n",
        "- warstwy wyjściowej.\n",
        "\n",
        "Ważne:\n",
        "- w każdej warstwie poza warstwą wyjściową funkcją aktywacji powinno być relu,\n",
        "- funkcja aktywacji dla warstwy wyjściowej to softmax,\n",
        "- między częścią konwolucyjną a gęstą trzeba spłaszczyć tensor przy pomocy warstwy `Flatten`,\n",
        "- w przykładzie jest wykorzystywana sieć gęsta (dane są spłaszczone), sieci z warstwami konwolucyjnymi muszą otrzymać tensor 4-wymiarowy, zakomentuj linie \"spłaszczające\" podczas wczytywania danych.\n",
        "```\n",
        "x_train = x_train.reshape(60000, 784)\n",
        "x_test = x_test.reshape(10000, 784)\n",
        "```"
      ]
    },
    {
      "cell_type": "code",
      "execution_count": 14,
      "metadata": {
        "colab": {
          "base_uri": "https://localhost:8080/"
        },
        "id": "MSJUzxAc15uZ",
        "outputId": "1aa2c6a8-c83d-4940-a6b7-4c9593b1b9e8"
      },
      "outputs": [
        {
          "output_type": "stream",
          "name": "stdout",
          "text": [
            "Epoch 1/3\n",
            "469/469 [==============================] - 5s 10ms/step - loss: 0.1478 - accuracy: 0.9541 - val_loss: 0.0513 - val_accuracy: 0.9825\n",
            "Epoch 2/3\n",
            "469/469 [==============================] - 4s 9ms/step - loss: 0.0410 - accuracy: 0.9879 - val_loss: 0.0376 - val_accuracy: 0.9884\n",
            "Epoch 3/3\n",
            "469/469 [==============================] - 5s 11ms/step - loss: 0.0252 - accuracy: 0.9923 - val_loss: 0.0353 - val_accuracy: 0.9886\n"
          ]
        },
        {
          "output_type": "execute_result",
          "data": {
            "text/plain": [
              "<keras.callbacks.History at 0x7fc9821dfe80>"
            ]
          },
          "metadata": {},
          "execution_count": 14
        }
      ],
      "source": [
        "class CustomModel(Model):\n",
        "\n",
        "    def __init__(self, num_classes=10):\n",
        "        super(CustomModel, self).__init__(name='custom_model')\n",
        "        self.num_classes = num_classes\n",
        "        # Define your layers here.\n",
        "        self.layer_1 = Conv2D(filters = 32, kernel_size = (3, 3),\n",
        "          activation='relu')\n",
        "        \n",
        "        self.layer_2 = Conv2D(filters = 64, kernel_size = (3, 3),\n",
        "          activation='relu')\n",
        "        \n",
        "        self.layer_3 = tf.keras.layers.MaxPool2D(\n",
        "            pool_size=(2, 2))\n",
        "        \n",
        "        self.layer_4 = Flatten()\n",
        "\n",
        "        self.layer_5 = Dense(\n",
        "            128,\n",
        "            activation='relu')\n",
        "        \n",
        "        self.layer_6 = Dense(num_classes, activation='softmax')\n",
        "\n",
        "    def call(self, inputs):\n",
        "        # Define your forward pass here,\n",
        "        # using layers you previously defined (in `__init__`).\n",
        "        x = self.layer_1(inputs)\n",
        "        x = self.layer_2(x)\n",
        "        x = self.layer_3(x)\n",
        "        x = self.layer_4(x)\n",
        "        x = self.layer_5(x)\n",
        "        return self.layer_6(x)\n",
        "\n",
        "\n",
        "model1 = CustomModel(num_classes=10)\n",
        "\n",
        "model1.compile(optimizer=RMSprop(),\n",
        "              loss='categorical_crossentropy',\n",
        "              metrics=['accuracy'])\n",
        "\n",
        "\n",
        "model1.fit(x_train, y_train, batch_size=128, epochs=3, validation_data=(x_test,y_test))\n"
      ]
    },
    {
      "cell_type": "markdown",
      "metadata": {
        "id": "fYDLWjdseB4H"
      },
      "source": [
        "### Zadanie 2 \n",
        "Na podstawie powyższego przykładu stwórz model bloku ResNet:\n",
        "- w warstwach konwolucyjnych wykorzystaj padding='same', aby rozmiary tensorów się nie zmieniały,\n",
        "- tego modelu nie trzeba budować i uczyć, zostanie on wykorzystany w kolejnym zadaniu."
      ]
    },
    {
      "cell_type": "markdown",
      "metadata": {
        "id": "RAvsPOz-GxjY"
      },
      "source": [
        "![resnet](https://miro.medium.com/max/1000/1*6HDuqhUzP92iXhHoS0Wl3w.png)"
      ]
    },
    {
      "cell_type": "code",
      "execution_count": null,
      "metadata": {
        "id": "6yZ8yKmbee44"
      },
      "outputs": [],
      "source": [
        "class Resnet(Model):\n",
        "\n",
        "    def __init__(self, num_classes=10):\n",
        "        super(Resnet, self).__init__(name='Resnet')\n",
        "        \n",
        "        self.num_classes = num_classes\n",
        "        \n",
        "        self.layer_1 = Conv2D(filters = 64, kernel_size = (3, 3),\n",
        "          activation='relu', padding='same')\n",
        "        \n",
        "        self.layer_2 = Conv2D(filters = 64, kernel_size = (3, 3), padding='same',)\n",
        "        \n",
        "    def call(self, inputs):\n",
        "        # Define your forward pass here,\n",
        "        # using layers you previously defined (in `__init__`).\n",
        "        x = self.layer_1(inputs)\n",
        "        x = self.layer_2(x)\n",
        "        return K.relu(inputs + x)\n"
      ]
    },
    {
      "cell_type": "markdown",
      "metadata": {
        "id": "prwjaEv2efs3"
      },
      "source": [
        "### Zadanie 3\n",
        "Zmodyfikuj model z zadania 1, zamieniając warstwy konwolucyjne na dwa modele bloku ResNet z zadania 2."
      ]
    },
    {
      "cell_type": "code",
      "execution_count": null,
      "metadata": {
        "colab": {
          "background_save": true,
          "base_uri": "https://localhost:8080/"
        },
        "id": "BGQr50EafxSH",
        "outputId": "18ec0acd-225a-411e-8b22-b705ff1c96b7"
      },
      "outputs": [
        {
          "name": "stdout",
          "output_type": "stream",
          "text": [
            "Epoch 1/3\n",
            "469/469 [==============================] - 929s 2s/step - loss: 0.2092 - accuracy: 0.9453 - val_loss: 0.0483 - val_accuracy: 0.9842\n",
            "Epoch 2/3\n",
            "469/469 [==============================] - 918s 2s/step - loss: 0.0385 - accuracy: 0.9877 - val_loss: 0.0395 - val_accuracy: 0.9873\n",
            "Epoch 3/3\n",
            "469/469 [==============================] - 916s 2s/step - loss: 0.0227 - accuracy: 0.9931 - val_loss: 0.0375 - val_accuracy: 0.9885\n"
          ]
        },
        {
          "data": {
            "text/plain": [
              "<keras.callbacks.History at 0x7f29eac70910>"
            ]
          },
          "execution_count": 28,
          "metadata": {},
          "output_type": "execute_result"
        }
      ],
      "source": [
        "class CustomModel(Model):\n",
        "\n",
        "    def __init__(self, num_classes=10):\n",
        "        super(CustomModel, self).__init__(name='custom_model')\n",
        "        self.num_classes = num_classes\n",
        "        # Define your layers here.\n",
        "        self.layer_1 = Resnet(num_classes)\n",
        "\n",
        "        self.layer_2 = Resnet(num_classes)\n",
        "        \n",
        "        self.layer_3 = tf.keras.layers.MaxPool2D(\n",
        "            pool_size=(2, 2))\n",
        "        \n",
        "        self.layer_4 = Flatten()\n",
        "\n",
        "        self.layer_5 = Dense(\n",
        "            128,\n",
        "            activation='relu')\n",
        "        \n",
        "        self.layer_6 = Dense(num_classes, activation='softmax')\n",
        "\n",
        "    def call(self, inputs):\n",
        "        # Define your forward pass here,\n",
        "        # using layers you previously defined (in `__init__`).\n",
        "        x = self.layer_1(inputs)\n",
        "        x = self.layer_2(x)\n",
        "        x = self.layer_3(x)\n",
        "        x = self.layer_4(x)\n",
        "        x = self.layer_5(x)\n",
        "        return self.layer_6(x)\n",
        "\n",
        "\n",
        "model = CustomModel(num_classes=10)\n",
        "\n",
        "model.compile(optimizer=RMSprop(),\n",
        "              loss='categorical_crossentropy',\n",
        "              metrics=['accuracy'])\n",
        "\n",
        "\n",
        "model.fit(x_train, y_train, batch_size=128, epochs=3, validation_data=(x_test,y_test))\n"
      ]
    },
    {
      "cell_type": "markdown",
      "metadata": {
        "id": "_3sOaUu3b77l"
      },
      "source": [
        "\n",
        "### Zadanie 4\n",
        "Wykorzystując Keras Subclassing API, napisz Autoenkoder dla zbioru danych MNIST.\n",
        "- stwórz osobny model Enkodera,\n",
        "- stwórz osobny model Dekodera,\n",
        "- połącz oba modele celem zbudowania Autoenkodera,\n",
        "- można korzystać z warstw gęstych, nie trzeba korzystać z konwolucji,\n",
        "- poprzednie zadania były przykładem klasyfikacji, w których wykorzystywana była funkcja błędu categorical_crossentropy (która jest stosowana dla wektorów reprezentujących rozkład prawdopodobieństwa), w przypadku Autoenkoderów model rekonstruuje dane wejściowe, więc najłatwiej wykorzystać mean square error (mse),\n",
        "- w związku z powyższym również wyjście sieci się różni, nie klasyfikujemy (y_train) tylko rekonstruujemy (x_train)\n",
        "\n",
        "https://blog.keras.io/building-autoencoders-in-keras.html"
      ]
    },
    {
      "cell_type": "code",
      "execution_count": 7,
      "metadata": {
        "id": "Kyu4YijDcA13",
        "colab": {
          "base_uri": "https://localhost:8080/"
        },
        "outputId": "5f0aeef6-1225-4051-818b-c9d57788a4ac"
      },
      "outputs": [
        {
          "output_type": "stream",
          "name": "stdout",
          "text": [
            "(60000, 784)\n",
            "(10000, 784)\n",
            "Epoch 1/100\n",
            "235/235 [==============================] - 4s 5ms/step - loss: 0.0377 - val_loss: 1.6053e-06\n",
            "Epoch 2/100\n",
            "235/235 [==============================] - 1s 5ms/step - loss: 1.5786e-06 - val_loss: 1.6033e-06\n",
            "Epoch 3/100\n",
            "235/235 [==============================] - 1s 5ms/step - loss: 1.5764e-06 - val_loss: 1.6007e-06\n",
            "Epoch 4/100\n",
            "235/235 [==============================] - 2s 7ms/step - loss: 1.5734e-06 - val_loss: 1.5975e-06\n",
            "Epoch 5/100\n",
            "235/235 [==============================] - 2s 9ms/step - loss: 1.5698e-06 - val_loss: 1.5936e-06\n",
            "Epoch 6/100\n",
            "235/235 [==============================] - 2s 7ms/step - loss: 1.5657e-06 - val_loss: 1.5891e-06\n",
            "Epoch 7/100\n",
            "235/235 [==============================] - 1s 4ms/step - loss: 1.5609e-06 - val_loss: 1.5840e-06\n",
            "Epoch 8/100\n",
            "235/235 [==============================] - 1s 4ms/step - loss: 1.5553e-06 - val_loss: 1.5781e-06\n",
            "Epoch 9/100\n",
            "235/235 [==============================] - 1s 4ms/step - loss: 1.5491e-06 - val_loss: 1.5713e-06\n",
            "Epoch 10/100\n",
            "235/235 [==============================] - 1s 5ms/step - loss: 1.5419e-06 - val_loss: 1.5636e-06\n",
            "Epoch 11/100\n",
            "235/235 [==============================] - 1s 4ms/step - loss: 1.5338e-06 - val_loss: 1.5548e-06\n",
            "Epoch 12/100\n",
            "235/235 [==============================] - 1s 6ms/step - loss: 1.5245e-06 - val_loss: 1.5446e-06\n",
            "Epoch 13/100\n",
            "235/235 [==============================] - 1s 4ms/step - loss: 1.5138e-06 - val_loss: 1.5329e-06\n",
            "Epoch 14/100\n",
            "235/235 [==============================] - 1s 4ms/step - loss: 1.5016e-06 - val_loss: 1.5194e-06\n",
            "Epoch 15/100\n",
            "235/235 [==============================] - 1s 4ms/step - loss: 1.4875e-06 - val_loss: 1.5039e-06\n",
            "Epoch 16/100\n",
            "235/235 [==============================] - 1s 4ms/step - loss: 1.4715e-06 - val_loss: 1.4861e-06\n",
            "Epoch 17/100\n",
            "235/235 [==============================] - 1s 4ms/step - loss: 1.4534e-06 - val_loss: 1.4661e-06\n",
            "Epoch 18/100\n",
            "235/235 [==============================] - 1s 4ms/step - loss: 1.4332e-06 - val_loss: 1.4440e-06\n",
            "Epoch 19/100\n",
            "235/235 [==============================] - 1s 4ms/step - loss: 1.4113e-06 - val_loss: 1.4203e-06\n",
            "Epoch 20/100\n",
            "235/235 [==============================] - 1s 4ms/step - loss: 1.3885e-06 - val_loss: 1.3962e-06\n",
            "Epoch 21/100\n",
            "235/235 [==============================] - 1s 4ms/step - loss: 1.3657e-06 - val_loss: 1.3727e-06\n",
            "Epoch 22/100\n",
            "235/235 [==============================] - 1s 4ms/step - loss: 1.3441e-06 - val_loss: 1.3508e-06\n",
            "Epoch 23/100\n",
            "235/235 [==============================] - 1s 4ms/step - loss: 1.3241e-06 - val_loss: 1.3309e-06\n",
            "Epoch 24/100\n",
            "235/235 [==============================] - 1s 4ms/step - loss: 1.3061e-06 - val_loss: 1.3133e-06\n",
            "Epoch 25/100\n",
            "235/235 [==============================] - 1s 4ms/step - loss: 1.2906e-06 - val_loss: 1.2984e-06\n",
            "Epoch 26/100\n",
            "235/235 [==============================] - 1s 4ms/step - loss: 1.2773e-06 - val_loss: 1.2855e-06\n",
            "Epoch 27/100\n",
            "235/235 [==============================] - 1s 4ms/step - loss: 1.2658e-06 - val_loss: 1.2744e-06\n",
            "Epoch 28/100\n",
            "235/235 [==============================] - 1s 4ms/step - loss: 1.2556e-06 - val_loss: 1.2644e-06\n",
            "Epoch 29/100\n",
            "235/235 [==============================] - 1s 4ms/step - loss: 1.2465e-06 - val_loss: 1.2556e-06\n",
            "Epoch 30/100\n",
            "235/235 [==============================] - 1s 4ms/step - loss: 1.2385e-06 - val_loss: 1.2480e-06\n",
            "Epoch 31/100\n",
            "235/235 [==============================] - 1s 4ms/step - loss: 1.2317e-06 - val_loss: 1.2413e-06\n",
            "Epoch 32/100\n",
            "235/235 [==============================] - 1s 4ms/step - loss: 1.2256e-06 - val_loss: 1.2353e-06\n",
            "Epoch 33/100\n",
            "235/235 [==============================] - 1s 4ms/step - loss: 1.2199e-06 - val_loss: 1.2298e-06\n",
            "Epoch 34/100\n",
            "235/235 [==============================] - 1s 4ms/step - loss: 1.2153e-06 - val_loss: 1.2255e-06\n",
            "Epoch 35/100\n",
            "235/235 [==============================] - 1s 4ms/step - loss: 1.2113e-06 - val_loss: 1.2216e-06\n",
            "Epoch 36/100\n",
            "235/235 [==============================] - 1s 4ms/step - loss: 1.2076e-06 - val_loss: 1.2180e-06\n",
            "Epoch 37/100\n",
            "235/235 [==============================] - 1s 4ms/step - loss: 1.2040e-06 - val_loss: 1.2140e-06\n",
            "Epoch 38/100\n",
            "235/235 [==============================] - 1s 4ms/step - loss: 1.2004e-06 - val_loss: 1.2102e-06\n",
            "Epoch 39/100\n",
            "235/235 [==============================] - 1s 4ms/step - loss: 1.1968e-06 - val_loss: 1.2062e-06\n",
            "Epoch 40/100\n",
            "235/235 [==============================] - 1s 4ms/step - loss: 1.1932e-06 - val_loss: 1.2025e-06\n",
            "Epoch 41/100\n",
            "235/235 [==============================] - 1s 4ms/step - loss: 1.1895e-06 - val_loss: 1.1987e-06\n",
            "Epoch 42/100\n",
            "235/235 [==============================] - 1s 4ms/step - loss: 1.1858e-06 - val_loss: 1.1951e-06\n",
            "Epoch 43/100\n",
            "235/235 [==============================] - 1s 4ms/step - loss: 1.1823e-06 - val_loss: 1.1911e-06\n",
            "Epoch 44/100\n",
            "235/235 [==============================] - 1s 4ms/step - loss: 1.1789e-06 - val_loss: 1.1879e-06\n",
            "Epoch 45/100\n",
            "235/235 [==============================] - 1s 4ms/step - loss: 1.1756e-06 - val_loss: 1.1846e-06\n",
            "Epoch 46/100\n",
            "235/235 [==============================] - 1s 4ms/step - loss: 1.1722e-06 - val_loss: 1.1809e-06\n",
            "Epoch 47/100\n",
            "235/235 [==============================] - 1s 4ms/step - loss: 1.1688e-06 - val_loss: 1.1769e-06\n",
            "Epoch 48/100\n",
            "235/235 [==============================] - 1s 4ms/step - loss: 1.1654e-06 - val_loss: 1.1735e-06\n",
            "Epoch 49/100\n",
            "235/235 [==============================] - 1s 4ms/step - loss: 1.1620e-06 - val_loss: 1.1700e-06\n",
            "Epoch 50/100\n",
            "235/235 [==============================] - 1s 4ms/step - loss: 1.1585e-06 - val_loss: 1.1664e-06\n",
            "Epoch 51/100\n",
            "235/235 [==============================] - 1s 4ms/step - loss: 1.1550e-06 - val_loss: 1.1625e-06\n",
            "Epoch 52/100\n",
            "235/235 [==============================] - 1s 4ms/step - loss: 1.1515e-06 - val_loss: 1.1587e-06\n",
            "Epoch 53/100\n",
            "235/235 [==============================] - 1s 4ms/step - loss: 1.1479e-06 - val_loss: 1.1553e-06\n",
            "Epoch 54/100\n",
            "235/235 [==============================] - 1s 4ms/step - loss: 1.1444e-06 - val_loss: 1.1522e-06\n",
            "Epoch 55/100\n",
            "235/235 [==============================] - 1s 4ms/step - loss: 1.1409e-06 - val_loss: 1.1477e-06\n",
            "Epoch 56/100\n",
            "235/235 [==============================] - 1s 4ms/step - loss: 1.1373e-06 - val_loss: 1.1437e-06\n",
            "Epoch 57/100\n",
            "235/235 [==============================] - 1s 6ms/step - loss: 1.1338e-06 - val_loss: 1.1401e-06\n",
            "Epoch 58/100\n",
            "235/235 [==============================] - 1s 5ms/step - loss: 1.1303e-06 - val_loss: 1.1363e-06\n",
            "Epoch 59/100\n",
            "235/235 [==============================] - 1s 4ms/step - loss: 1.1268e-06 - val_loss: 1.1331e-06\n",
            "Epoch 60/100\n",
            "235/235 [==============================] - 1s 4ms/step - loss: 1.1233e-06 - val_loss: 1.1297e-06\n",
            "Epoch 61/100\n",
            "235/235 [==============================] - 1s 4ms/step - loss: 1.1199e-06 - val_loss: 1.1260e-06\n",
            "Epoch 62/100\n",
            "235/235 [==============================] - 1s 4ms/step - loss: 1.1166e-06 - val_loss: 1.1226e-06\n",
            "Epoch 63/100\n",
            "235/235 [==============================] - 1s 4ms/step - loss: 1.1132e-06 - val_loss: 1.1194e-06\n",
            "Epoch 64/100\n",
            "235/235 [==============================] - 1s 4ms/step - loss: 1.1099e-06 - val_loss: 1.1152e-06\n",
            "Epoch 65/100\n",
            "235/235 [==============================] - 1s 4ms/step - loss: 1.1066e-06 - val_loss: 1.1120e-06\n",
            "Epoch 66/100\n",
            "235/235 [==============================] - 1s 4ms/step - loss: 1.1035e-06 - val_loss: 1.1090e-06\n",
            "Epoch 67/100\n",
            "235/235 [==============================] - 1s 4ms/step - loss: 1.1003e-06 - val_loss: 1.1052e-06\n",
            "Epoch 68/100\n",
            "235/235 [==============================] - 1s 4ms/step - loss: 1.0972e-06 - val_loss: 1.1022e-06\n",
            "Epoch 69/100\n",
            "235/235 [==============================] - 1s 4ms/step - loss: 1.0943e-06 - val_loss: 1.0989e-06\n",
            "Epoch 70/100\n",
            "235/235 [==============================] - 1s 4ms/step - loss: 1.0914e-06 - val_loss: 1.0964e-06\n",
            "Epoch 71/100\n",
            "235/235 [==============================] - 1s 4ms/step - loss: 1.0886e-06 - val_loss: 1.0929e-06\n",
            "Epoch 72/100\n",
            "235/235 [==============================] - 1s 4ms/step - loss: 1.0858e-06 - val_loss: 1.0909e-06\n",
            "Epoch 73/100\n",
            "235/235 [==============================] - 1s 4ms/step - loss: 1.0830e-06 - val_loss: 1.0872e-06\n",
            "Epoch 74/100\n",
            "235/235 [==============================] - 1s 4ms/step - loss: 1.0805e-06 - val_loss: 1.0845e-06\n",
            "Epoch 75/100\n",
            "235/235 [==============================] - 1s 4ms/step - loss: 1.0778e-06 - val_loss: 1.0822e-06\n",
            "Epoch 76/100\n",
            "235/235 [==============================] - 1s 5ms/step - loss: 1.0754e-06 - val_loss: 1.0791e-06\n",
            "Epoch 77/100\n",
            "235/235 [==============================] - 1s 4ms/step - loss: 1.0731e-06 - val_loss: 1.0767e-06\n",
            "Epoch 78/100\n",
            "235/235 [==============================] - 1s 4ms/step - loss: 1.0706e-06 - val_loss: 1.0743e-06\n",
            "Epoch 79/100\n",
            "235/235 [==============================] - 1s 4ms/step - loss: 1.0684e-06 - val_loss: 1.0717e-06\n",
            "Epoch 80/100\n",
            "235/235 [==============================] - 1s 4ms/step - loss: 1.0662e-06 - val_loss: 1.0700e-06\n",
            "Epoch 81/100\n",
            "235/235 [==============================] - 1s 4ms/step - loss: 1.0639e-06 - val_loss: 1.0673e-06\n",
            "Epoch 82/100\n",
            "235/235 [==============================] - 1s 5ms/step - loss: 1.0617e-06 - val_loss: 1.0650e-06\n",
            "Epoch 83/100\n",
            "235/235 [==============================] - 1s 6ms/step - loss: 1.0596e-06 - val_loss: 1.0626e-06\n",
            "Epoch 84/100\n",
            "235/235 [==============================] - 1s 6ms/step - loss: 1.0575e-06 - val_loss: 1.0606e-06\n",
            "Epoch 85/100\n",
            "235/235 [==============================] - 1s 4ms/step - loss: 1.0553e-06 - val_loss: 1.0582e-06\n",
            "Epoch 86/100\n",
            "235/235 [==============================] - 1s 4ms/step - loss: 1.0532e-06 - val_loss: 1.0559e-06\n",
            "Epoch 87/100\n",
            "235/235 [==============================] - 1s 4ms/step - loss: 1.0510e-06 - val_loss: 1.0539e-06\n",
            "Epoch 88/100\n",
            "235/235 [==============================] - 1s 4ms/step - loss: 1.0488e-06 - val_loss: 1.0512e-06\n",
            "Epoch 89/100\n",
            "235/235 [==============================] - 1s 4ms/step - loss: 1.0466e-06 - val_loss: 1.0493e-06\n",
            "Epoch 90/100\n",
            "235/235 [==============================] - 1s 4ms/step - loss: 1.0441e-06 - val_loss: 1.0468e-06\n",
            "Epoch 91/100\n",
            "235/235 [==============================] - 1s 4ms/step - loss: 1.0417e-06 - val_loss: 1.0438e-06\n",
            "Epoch 92/100\n",
            "235/235 [==============================] - 1s 5ms/step - loss: 1.0392e-06 - val_loss: 1.0412e-06\n",
            "Epoch 93/100\n",
            "235/235 [==============================] - 1s 5ms/step - loss: 1.0365e-06 - val_loss: 1.0385e-06\n",
            "Epoch 94/100\n",
            "235/235 [==============================] - 1s 4ms/step - loss: 1.0337e-06 - val_loss: 1.0351e-06\n",
            "Epoch 95/100\n",
            "235/235 [==============================] - 1s 4ms/step - loss: 1.0306e-06 - val_loss: 1.0315e-06\n",
            "Epoch 96/100\n",
            "235/235 [==============================] - 1s 5ms/step - loss: 1.0274e-06 - val_loss: 1.0281e-06\n",
            "Epoch 97/100\n",
            "235/235 [==============================] - 1s 4ms/step - loss: 1.0240e-06 - val_loss: 1.0246e-06\n",
            "Epoch 98/100\n",
            "235/235 [==============================] - 1s 4ms/step - loss: 1.0203e-06 - val_loss: 1.0204e-06\n",
            "Epoch 99/100\n",
            "235/235 [==============================] - 1s 4ms/step - loss: 1.0165e-06 - val_loss: 1.0171e-06\n",
            "Epoch 100/100\n",
            "235/235 [==============================] - 1s 4ms/step - loss: 1.0123e-06 - val_loss: 1.0115e-06\n"
          ]
        },
        {
          "output_type": "execute_result",
          "data": {
            "text/plain": [
              "<keras.callbacks.History at 0x7f4a10353340>"
            ]
          },
          "metadata": {},
          "execution_count": 7
        }
      ],
      "source": [
        "import keras\n",
        "from keras import layers\n",
        "\n",
        "input_img = keras.Input(shape=(784,))\n",
        "\n",
        "encoded = layers.Dense(128, activation='relu')(input_img)\n",
        "encoded = layers.Dense(64, activation='relu')(encoded)\n",
        "encoded = layers.Dense(32, activation='relu')(encoded)\n",
        "\n",
        "decoded = layers.Dense(64, activation='relu')(encoded)\n",
        "decoded = layers.Dense(128, activation='relu')(decoded)\n",
        "decoded = layers.Dense(784, activation='sigmoid')(decoded)\n",
        "\n",
        "autoencoder = keras.Model(input_img, decoded)\n",
        "autoencoder.compile(optimizer='adam', loss='MSE')\n",
        "\n",
        "x_train = x_train.astype('float32') / 255.\n",
        "x_test = x_test.astype('float32') / 255.\n",
        "x_train = x_train.reshape((len(x_train), np.prod(x_train.shape[1:])))\n",
        "x_test = x_test.reshape((len(x_test), np.prod(x_test.shape[1:])))\n",
        "print(x_train.shape)\n",
        "print(x_test.shape)\n",
        "\n",
        "autoencoder.fit(x_train, x_train,\n",
        "                epochs=100,\n",
        "                batch_size=256,\n",
        "                shuffle=True,\n",
        "                validation_data=(x_test, x_test))\n",
        "\n"
      ]
    },
    {
      "cell_type": "markdown",
      "metadata": {
        "id": "agFLqb3bUHNh"
      },
      "source": [
        "## Regularyzacja\n",
        "### Zadanie 5\n",
        "Rozszerz model stworzony w zadaniu 1 o dwie warstwy Dropout (Dropout - https://keras.io/api/layers/regularization_layers/dropout/):\n",
        "- jedna po warstwie MaxPooling (wartość współczynnika odrzucenia 0.25)\n",
        "- druga po gęstej warstwie ukrytej (Dense), wartość współczynnika odrzucenia 0.5.\n",
        "\n",
        "  \n",
        "\n",
        "\n",
        "\n"
      ]
    },
    {
      "cell_type": "code",
      "execution_count": 15,
      "metadata": {
        "id": "EFqCcx1ZYMMt",
        "colab": {
          "base_uri": "https://localhost:8080/"
        },
        "outputId": "fd8ec4c1-1d96-4b5a-f012-2d35fe36042a"
      },
      "outputs": [
        {
          "output_type": "stream",
          "name": "stdout",
          "text": [
            "Epoch 1/3\n",
            "469/469 [==============================] - 5s 10ms/step - loss: 0.2171 - accuracy: 0.9351 - val_loss: 0.0509 - val_accuracy: 0.9840\n",
            "Epoch 2/3\n",
            "469/469 [==============================] - 5s 10ms/step - loss: 0.0810 - accuracy: 0.9763 - val_loss: 0.0370 - val_accuracy: 0.9879\n",
            "Epoch 3/3\n",
            "469/469 [==============================] - 5s 10ms/step - loss: 0.0603 - accuracy: 0.9829 - val_loss: 0.0413 - val_accuracy: 0.9874\n"
          ]
        },
        {
          "output_type": "execute_result",
          "data": {
            "text/plain": [
              "<keras.callbacks.History at 0x7fc98207ea30>"
            ]
          },
          "metadata": {},
          "execution_count": 15
        }
      ],
      "source": [
        "class CustomModel(Model):\n",
        "\n",
        "    def __init__(self, num_classes=10):\n",
        "        super(CustomModel, self).__init__(name='custom_model')\n",
        "        self.num_classes = num_classes\n",
        "        # Define your layers here.\n",
        "        self.layer_1 = Conv2D(filters = 32, kernel_size = (3, 3),\n",
        "          activation='relu')\n",
        "        \n",
        "        self.layer_2 = Conv2D(filters = 64, kernel_size = (3, 3),\n",
        "          activation='relu')\n",
        "        \n",
        "        self.layer_3 = tf.keras.layers.MaxPool2D(\n",
        "            pool_size=(2, 2))\n",
        "        \n",
        "        self.layer_4 = tf.keras.layers.Dropout(0.25)\n",
        "        \n",
        "        self.layer_5 = Flatten()\n",
        "\n",
        "        self.layer_6 = Dense(\n",
        "            128,\n",
        "            activation='relu')\n",
        "        \n",
        "        self.layer_7 = tf.keras.layers.Dropout(0.5)\n",
        "        \n",
        "        self.layer_8 = Dense(num_classes, activation='softmax')\n",
        "\n",
        "    def call(self, inputs):\n",
        "        # Define your forward pass here,\n",
        "        # using layers you previously defined (in `__init__`).\n",
        "        x = self.layer_1(inputs)\n",
        "        x = self.layer_2(x)\n",
        "        x = self.layer_3(x)\n",
        "        x = self.layer_4(x)\n",
        "        x = self.layer_5(x)\n",
        "        x = self.layer_6(x)\n",
        "        x = self.layer_7(x)\n",
        "        return self.layer_8(x)\n",
        "\n",
        "\n",
        "model5 = CustomModel(num_classes=10)\n",
        "\n",
        "model5.compile(optimizer=RMSprop(),\n",
        "              loss='categorical_crossentropy',\n",
        "              metrics=['accuracy'])\n",
        "\n",
        "\n",
        "model5.fit(x_train, y_train, batch_size=128, epochs=3, validation_data=(x_test,y_test))\n"
      ]
    },
    {
      "cell_type": "markdown",
      "metadata": {
        "id": "_WgmXVZ0YSVg"
      },
      "source": [
        "### Zadanie 6\n",
        "Rozszerz model stworzony w zadaniu 1 o dwie warstwy Batch normalization (BatchNormalization - https://keras.io/layers/normalization/) po warstwach konwolucyjnych."
      ]
    },
    {
      "cell_type": "code",
      "execution_count": 16,
      "metadata": {
        "id": "bcmlyYOpYUyy",
        "colab": {
          "base_uri": "https://localhost:8080/"
        },
        "outputId": "5dd5c99a-f7c3-483f-8e5c-5c8818d5036b"
      },
      "outputs": [
        {
          "output_type": "stream",
          "name": "stdout",
          "text": [
            "Epoch 1/3\n",
            "469/469 [==============================] - 7s 13ms/step - loss: 0.2568 - accuracy: 0.9535 - val_loss: 0.1241 - val_accuracy: 0.9803\n",
            "Epoch 2/3\n",
            "469/469 [==============================] - 6s 12ms/step - loss: 0.0525 - accuracy: 0.9863 - val_loss: 0.0543 - val_accuracy: 0.9853\n",
            "Epoch 3/3\n",
            "469/469 [==============================] - 5s 11ms/step - loss: 0.0343 - accuracy: 0.9909 - val_loss: 0.2394 - val_accuracy: 0.9666\n"
          ]
        },
        {
          "output_type": "execute_result",
          "data": {
            "text/plain": [
              "<keras.callbacks.History at 0x7fc96a692160>"
            ]
          },
          "metadata": {},
          "execution_count": 16
        }
      ],
      "source": [
        "class CustomModel(Model):\n",
        "\n",
        "    def __init__(self, num_classes=10):\n",
        "        super(CustomModel, self).__init__(name='custom_model')\n",
        "        self.num_classes = num_classes\n",
        "        # Define your layers here.\n",
        "        self.layer_1 = Conv2D(filters = 32, kernel_size = (3, 3),\n",
        "          activation='relu')\n",
        "        \n",
        "        self.layer_2 = Conv2D(filters = 64, kernel_size = (3, 3),\n",
        "          activation='relu')\n",
        "        \n",
        "        self.layer_3 = tf.keras.layers.BatchNormalization()\n",
        "        \n",
        "        self.layer_4 = tf.keras.layers.BatchNormalization()\n",
        "\n",
        "        self.layer_5 = tf.keras.layers.MaxPool2D(\n",
        "            pool_size=(2, 2))\n",
        "        \n",
        "        self.layer_6 = Flatten()\n",
        "\n",
        "        self.layer_7 = Dense(\n",
        "            128,\n",
        "            activation='relu')\n",
        "        \n",
        "        self.layer_8 = Dense(num_classes, activation='softmax')\n",
        "\n",
        "    def call(self, inputs):\n",
        "        # Define your forward pass here,\n",
        "        # using layers you previously defined (in `__init__`).\n",
        "        x = self.layer_1(inputs)\n",
        "        x = self.layer_2(x)\n",
        "        x = self.layer_3(x)\n",
        "        x = self.layer_4(x)\n",
        "        x = self.layer_5(x)\n",
        "        x = self.layer_6(x)\n",
        "        x = self.layer_7(x)\n",
        "        return self.layer_8(x)\n",
        "\n",
        "\n",
        "model6 = CustomModel(num_classes=10)\n",
        "\n",
        "model6.compile(optimizer=RMSprop(),\n",
        "              loss='categorical_crossentropy',\n",
        "              metrics=['accuracy'])\n",
        "\n",
        "\n",
        "model6.fit(x_train, y_train, batch_size=128, epochs=3, validation_data=(x_test,y_test))\n"
      ]
    },
    {
      "cell_type": "markdown",
      "metadata": {
        "id": "sp4DmjC8YVl_"
      },
      "source": [
        "### Zadanie 7\n",
        "Rozszerz model stworzony w zadaniu 1 o warstwy z zadań 5 i 6."
      ]
    },
    {
      "cell_type": "code",
      "execution_count": 17,
      "metadata": {
        "id": "2yDqgHMGYZZd",
        "colab": {
          "base_uri": "https://localhost:8080/"
        },
        "outputId": "2f79d6a9-b128-4254-a672-7267ba20d4ef"
      },
      "outputs": [
        {
          "output_type": "stream",
          "name": "stdout",
          "text": [
            "Epoch 1/3\n",
            "469/469 [==============================] - 6s 12ms/step - loss: 0.3845 - accuracy: 0.9132 - val_loss: 0.2693 - val_accuracy: 0.9703\n",
            "Epoch 2/3\n",
            "469/469 [==============================] - 5s 11ms/step - loss: 0.1535 - accuracy: 0.9626 - val_loss: 0.0593 - val_accuracy: 0.9835\n",
            "Epoch 3/3\n",
            "469/469 [==============================] - 5s 11ms/step - loss: 0.1283 - accuracy: 0.9693 - val_loss: 0.0871 - val_accuracy: 0.9772\n"
          ]
        },
        {
          "output_type": "execute_result",
          "data": {
            "text/plain": [
              "<keras.callbacks.History at 0x7fc96a43bd90>"
            ]
          },
          "metadata": {},
          "execution_count": 17
        }
      ],
      "source": [
        "class CustomModel(Model):\n",
        "\n",
        "    def __init__(self, num_classes=10):\n",
        "        super(CustomModel, self).__init__(name='custom_model')\n",
        "        self.num_classes = num_classes\n",
        "        # Define your layers here.\n",
        "        self.layer_1 = Conv2D(filters = 32, kernel_size = (3, 3),\n",
        "          activation='relu')\n",
        "        \n",
        "        self.layer_2 = Conv2D(filters = 64, kernel_size = (3, 3),\n",
        "          activation='relu')\n",
        "        \n",
        "        self.layer_3 = tf.keras.layers.BatchNormalization()\n",
        "        \n",
        "        self.layer_4 = tf.keras.layers.BatchNormalization()\n",
        "\n",
        "        self.layer_5 = tf.keras.layers.MaxPool2D(\n",
        "            pool_size=(2, 2))\n",
        "        \n",
        "        self.layer_6 = tf.keras.layers.Dropout(0.25)\n",
        "        \n",
        "        self.layer_7 = Flatten()\n",
        "\n",
        "        self.layer_8 = Dense(\n",
        "            128,\n",
        "            activation='relu')\n",
        "        \n",
        "        self.layer_9 = tf.keras.layers.Dropout(0.5)\n",
        "        \n",
        "        self.layer_10 = Dense(num_classes, activation='softmax')\n",
        "\n",
        "    def call(self, inputs):\n",
        "        # Define your forward pass here,\n",
        "        # using layers you previously defined (in `__init__`).\n",
        "        x = self.layer_1(inputs)\n",
        "        x = self.layer_2(x)\n",
        "        x = self.layer_3(x)\n",
        "        x = self.layer_4(x)\n",
        "        x = self.layer_5(x)\n",
        "        x = self.layer_6(x)\n",
        "        x = self.layer_7(x)\n",
        "        x = self.layer_8(x)\n",
        "        x = self.layer_9(x)\n",
        "        return self.layer_10(x)\n",
        "\n",
        "\n",
        "model7 = CustomModel(num_classes=10)\n",
        "\n",
        "model7.compile(optimizer=RMSprop(),\n",
        "              loss='categorical_crossentropy',\n",
        "              metrics=['accuracy'])\n",
        "\n",
        "\n",
        "model7.fit(x_train, y_train, batch_size=128, epochs=3, validation_data=(x_test,y_test))\n"
      ]
    },
    {
      "cell_type": "markdown",
      "metadata": {
        "id": "GoruuRfaYMqZ"
      },
      "source": [
        "### Zadanie 8 \n",
        "Porównaj modele stworzone w zadaniach 1, 5, 6, 7 na zbiorze danych MNIST. Stwórz wykresy z przebiegiem błędu funkcji celu i trafności klasyfikacji dla zbioru treningowego i walidacyjnego.\n",
        "Cztery wykresy:\n",
        "- błąd funkcji celu dla zbioru treningowego,\n",
        "- błąd funkcji celu dla zbioru walidacyjnego,\n",
        "- trafność klasyfikacji dla zbioru treningowego,\n",
        "- trafność klasyfikacji dla zbioru walidacyjnego\n",
        "\n",
        "Na każdym wykresie powinny być 4 przebiegi dla modeli z wszystkich zadań (1, 5, 6, 7), tak by łatwo można je było ze sobą wizualnie porównać.\n"
      ]
    },
    {
      "cell_type": "code",
      "execution_count": 38,
      "metadata": {
        "id": "eixxtPW8Ygyk",
        "colab": {
          "base_uri": "https://localhost:8080/",
          "height": 298
        },
        "outputId": "df04c058-4173-4da7-ad61-47d33f3d115d"
      },
      "outputs": [
        {
          "output_type": "execute_result",
          "data": {
            "text/plain": [
              "<matplotlib.legend.Legend at 0x7fc93621a400>"
            ]
          },
          "metadata": {},
          "execution_count": 38
        },
        {
          "output_type": "display_data",
          "data": {
            "text/plain": [
              "<Figure size 432x288 with 1 Axes>"
            ],
            "image/png": "[encoded data removed]"
          },
          "metadata": {
            "needs_background": "light"
          }
        }
      ],
      "source": [
        "import matplotlib.pyplot as plt\n",
        "import matplotlib\n",
        "\n",
        "models = [model1, model5, model6, model7]\n",
        "\n",
        "fig, ax = plt.subplots()\n",
        "\n",
        "for i, model in enumerate(models):\n",
        "  val_accuracy = model.history.history[\"val_accuracy\"]\n",
        "  line1, = ax.plot([1,2,3], val_accuracy, label=f'model_{i}')\n",
        "\n",
        "matplotlib.pyplot.title(\"val_accuracy\")\n",
        "ax.legend(handlelength=4)\n",
        "\n"
      ]
    },
    {
      "cell_type": "code",
      "source": [
        "fig, ax = plt.subplots()\n",
        "\n",
        "for i, model in enumerate(models):\n",
        "  val_loss = model.history.history[\"val_loss\"]\n",
        "  line1, = ax.plot([1,2,3], val_loss, label=f'model_{i}')\n",
        "\n",
        "matplotlib.pyplot.title(\"val_loss\")\n",
        "ax.legend(handlelength=4)"
      ],
      "metadata": {
        "colab": {
          "base_uri": "https://localhost:8080/",
          "height": 298
        },
        "id": "8A6tQ1GXnGOR",
        "outputId": "0154c850-b8a4-4c67-f2c2-2b22fabb38a0"
      },
      "execution_count": 39,
      "outputs": [
        {
          "output_type": "execute_result",
          "data": {
            "text/plain": [
              "<matplotlib.legend.Legend at 0x7fc93617c910>"
            ]
          },
          "metadata": {},
          "execution_count": 39
        },
        {
          "output_type": "display_data",
          "data": {
            "text/plain": [
              "<Figure size 432x288 with 1 Axes>"
            ],
            "image/png": "[encoded data removed]"
          },
          "metadata": {
            "needs_background": "light"
          }
        }
      ]
    },
    {
      "cell_type": "code",
      "source": [
        "fig, ax = plt.subplots()\n",
        "\n",
        "for i, model in enumerate(models):\n",
        "  accuracy = model.history.history[\"accuracy\"]\n",
        "  line1, = ax.plot([1,2,3], accuracy, label=f'model_{i}')\n",
        "\n",
        "matplotlib.pyplot.title(\"accuracy\")\n",
        "ax.legend(handlelength=4)"
      ],
      "metadata": {
        "colab": {
          "base_uri": "https://localhost:8080/",
          "height": 298
        },
        "id": "RchxcmOknIjQ",
        "outputId": "dc2da05a-9451-476d-9245-8fa786514280"
      },
      "execution_count": 40,
      "outputs": [
        {
          "output_type": "execute_result",
          "data": {
            "text/plain": [
              "<matplotlib.legend.Legend at 0x7fc9361621c0>"
            ]
          },
          "metadata": {},
          "execution_count": 40
        },
        {
          "output_type": "display_data",
          "data": {
            "text/plain": [
              "<Figure size 432x288 with 1 Axes>"
            ],
            "image/png": "[encoded data removed]"
          },
          "metadata": {
            "needs_background": "light"
          }
        }
      ]
    },
    {
      "cell_type": "code",
      "source": [
        "fig, ax = plt.subplots()\n",
        "\n",
        "for i, model in enumerate(models):\n",
        "  loss = model.history.history[\"loss\"]\n",
        "  line1, = ax.plot([1,2,3], loss, label=f'model_{i}')\n",
        "\n",
        "matplotlib.pyplot.title(\"loss\")\n",
        "ax.legend(handlelength=4)"
      ],
      "metadata": {
        "colab": {
          "base_uri": "https://localhost:8080/",
          "height": 298
        },
        "id": "e3ulK1AOn23S",
        "outputId": "7d0c2f48-a0f9-4b04-94fe-f801751d5eff"
      },
      "execution_count": 41,
      "outputs": [
        {
          "output_type": "execute_result",
          "data": {
            "text/plain": [
              "<matplotlib.legend.Legend at 0x7fc93615a370>"
            ]
          },
          "metadata": {},
          "execution_count": 41
        },
        {
          "output_type": "display_data",
          "data": {
            "text/plain": [
              "<Figure size 432x288 with 1 Axes>"
            ],
            "image/png": "[encoded data removed]"
          },
          "metadata": {
            "needs_background": "light"
          }
        }
      ]
    },
    {
      "cell_type": "code",
      "source": [],
      "metadata": {
        "id": "Tamtfs79n9Gv"
      },
      "execution_count": null,
      "outputs": []
    }
  ],
  "metadata": {
    "colab": {
      "provenance": [],
      "toc_visible": true
    },
    "kernelspec": {
      "display_name": "Python 3",
      "name": "python3"
    },
    "accelerator": "GPU",
    "gpuClass": "standard"
  },
  "nbformat": 4,
  "nbformat_minor": 0
}